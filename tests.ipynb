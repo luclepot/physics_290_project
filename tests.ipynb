{
 "cells": [
  {
   "cell_type": "code",
   "execution_count": 6,
   "id": "e86109e5-c564-46c1-98a3-e79fa942e899",
   "metadata": {},
   "outputs": [],
   "source": [
    "import tensorflow as tf\n",
    "import tensorflow.keras as keras\n",
    "import glob\n",
    "import pandas as pd\n",
    "import os\n",
    "import numpy as np\n",
    "import h5py\n",
    "from atlasify import atlasify\n",
    "import atlas_mpl_style as ampl\n",
    "import matplotlib.pyplot as plt"
   ]
  },
  {
   "cell_type": "markdown",
   "id": "4a689abb-2bc2-40dc-9489-0053d19b5235",
   "metadata": {},
   "source": [
    "## check available datasets"
   ]
  },
  {
   "cell_type": "code",
   "execution_count": 7,
   "id": "1ca9af9c",
   "metadata": {},
   "outputs": [
    {
     "name": "stdout",
     "output_type": "stream",
     "text": [
      "available datasets: ['conversion/pt500_taus/']\n"
     ]
    }
   ],
   "source": [
    "data_template = 'conversion/pt{}_taus/'\n",
    "avail = glob.glob(data_template.format('*'))\n",
    "print('available datasets:', avail)"
   ]
  },
  {
   "cell_type": "markdown",
   "id": "84e28168-3cf2-48fb-bdd9-99f0a4e19ad4",
   "metadata": {},
   "source": [
    "## convert datasets, if not already done"
   ]
  },
  {
   "cell_type": "code",
   "execution_count": 8,
   "id": "a840051f-7c4b-4e78-a666-468d9e8b052d",
   "metadata": {},
   "outputs": [],
   "source": [
    "const_names = ['Eta', 'Phi', 'Mass', 'Pt']\n",
    "hlf_names = [\n",
    "    'Eta',\n",
    "    'Phi',\n",
    "    'Charge',\n",
    "    'EhadOverEem',\n",
    "    'PT',\n",
    "    'Mass',\n",
    "    'NCharged',\n",
    "    'NNeutrals',\n",
    "    'NSubJetsPruned',\n",
    "    'NSubJetsSoftDropped',\n",
    "    'PTD',\n",
    "    'tau1',\n",
    "    'tau2',\n",
    "    'tau3',\n",
    "    'tau4',\n",
    "    'event_number',\n",
    "    'jet_number',\n",
    "]"
   ]
  },
  {
   "cell_type": "code",
   "execution_count": 9,
   "id": "ac562d68-2830-4ed8-ba5a-7efc91a5aace",
   "metadata": {},
   "outputs": [],
   "source": [
    "def make_df_from_constituents(const_list):\n",
    "    comb = np.concatenate(const_list)\n",
    "    index = pd.MultiIndex.from_product([range(s) for s in comb.shape[:-1]] + [const_names], names=['count', 'const', 'var'])\n",
    "    ser = pd.Series(comb.flatten(), index=index).unstack('var')\n",
    "    return ser[~(ser < 0).all(axis=1)]\n",
    "\n",
    "def make_df_from_hlf(hlf_list):\n",
    "    comb = np.concatenate(hlf_list)\n",
    "    df = pd.DataFrame(comb, columns=hlf_names)\n",
    "    df.index.name = 'count'\n",
    "    df.columns.name = 'var'\n",
    "    return df\n",
    "\n",
    "force = False\n",
    "for data_name in avail:\n",
    "    save_head = 'data'\n",
    "    for kind in ['dijet', 'ttbar']:\n",
    "\n",
    "        save_name = os.path.join(save_head, data_name.split('/')[1])\n",
    "        \n",
    "        hlf_path = '{}_{}_hlf'.format(save_name, kind)\n",
    "        if os.path.exists(hlf_path) and (not force):\n",
    "            hlf_path = None\n",
    "\n",
    "        const_path = '{}_{}_const'.format(save_name, kind)\n",
    "        if os.path.exists(const_path) and (not force):\n",
    "            const_path = None\n",
    "\n",
    "        if const_path is None and hlf_path is None:\n",
    "            continue\n",
    "\n",
    "        files = glob.glob(os.path.join(data_name, '{}_out/*/data.h5'.format(kind)))\n",
    "        hlf_list = []\n",
    "        const_list = []\n",
    "\n",
    "        for fname in files:\n",
    "            with h5py.File(fname, 'r') as fread:\n",
    "                hlf_list.append(fread['hlf'][:])\n",
    "                const_list.append(fread['const'][:])\n",
    "\n",
    "        hlf_df = make_df_from_hlf(hlf_list)\n",
    "        const_df = make_df_from_constituents(const_list)\n",
    "\n",
    "        if hlf_path is not None:\n",
    "            print('writing to {}'.format(hlf_path))\n",
    "            hlf_df.to_pickle(hlf_path)\n",
    "        if const_path is not None:\n",
    "            const_df.to_pickle(const_path)\n",
    "            print('writing to {}'.format(const_path))\n",
    "        del hlf_df\n",
    "        del const_df\n",
    "        del hlf_list\n",
    "        del const_list"
   ]
  },
  {
   "cell_type": "code",
   "execution_count": 10,
   "id": "f6e188e7-c466-4b41-be52-76ba88e3abe3",
   "metadata": {},
   "outputs": [],
   "source": [
    "def load_data(pt=200, const=False):\n",
    "    fmt = data_template.format(pt).split('/')[1]\n",
    "    ret = (\n",
    "        pd.read_pickle('data/{}_dijet_hlf'.format(fmt)),\n",
    "        pd.read_pickle('data/{}_ttbar_hlf'.format(fmt)),\n",
    "    )\n",
    "    if const:\n",
    "        ret = ret + (\n",
    "            pd.read_pickle('data/{}_dijet_const'.format(fmt)),\n",
    "            pd.read_pickle('data/{}_ttbar_const'.format(fmt)),\n",
    "        )\n",
    "    return ret\n",
    "\n",
    "hlf, tthlf, const, ttconst = load_data(pt=500, const=1)"
   ]
  },
  {
   "cell_type": "code",
   "execution_count": 11,
   "id": "19f40ba5-34ac-40fb-b54a-2d251d274e11",
   "metadata": {},
   "outputs": [],
   "source": [
    "hlf['tau21'] = hlf.tau2/(hlf.tau1 + 1e-12)\n",
    "hlf['tau32'] = hlf.tau3/(hlf.tau2 + 1e-12)\n",
    "\n",
    "tthlf['tau21'] = tthlf.tau2/(tthlf.tau1 + 1e-12)\n",
    "tthlf['tau32'] = tthlf.tau3/(tthlf.tau2 + 1e-12)"
   ]
  },
  {
   "cell_type": "markdown",
   "id": "7cf28b63-987e-429b-9b8f-59c319482bac",
   "metadata": {},
   "source": [
    "## feature plots"
   ]
  },
  {
   "cell_type": "code",
   "execution_count": 12,
   "id": "0651491d-6108-4e5b-a7f7-586ed166c6d4",
   "metadata": {},
   "outputs": [
    {
     "data": {
      "image/png": "[encoded data removed]",
      "text/plain": [
       "<Figure size 720x720 with 2 Axes>"
      ]
     },
     "metadata": {},
     "output_type": "display_data"
    }
   ],
   "source": [
    "from atlasify import atlasify\n",
    "import atlas_mpl_style as ampl\n",
    "import matplotlib.pyplot as plt\n",
    "\n",
    "ampl.use_atlas_style()\n",
    "\n",
    "fig,axs = plt.subplots(2,1,figsize=(10,10))\n",
    "\n",
    "pt_bins = np.linspace(200, 2000, 100)\n",
    "pt_x = pt_bins[:-1] + 0.5*np.diff(pt_bins)\n",
    "\n",
    "for i,(ax,hlf_group,hlf_name) in enumerate(zip(axs[:2], [hlf, tthlf], ['Dijet', r'$t\\bar{t}$'])):\n",
    "    for n,group in hlf_group.groupby('jet_number').PT:\n",
    "        if n == 0:\n",
    "            n0 = len(group)\n",
    "        if n < 4:\n",
    "            ax.hist(group, bins=pt_bins, label='jet {}, yield = {:.1f}%, N={:<3}'.format(int(n+1), 100*len(group)/n0, len(group)), histtype='step', density=1)\n",
    "    ax.set_yscale('log')\n",
    "    ax.legend(title=hlf_name, fontsize=14)\n",
    "    ax.set_ylabel('Density', fontsize=14)\n",
    "    ax.set_xlabel('$p_T$, GeV', fontsize=16)\n",
    "    ax.grid()\n",
    "    atlasify(axes=ax, atlas=False)\n",
    "axs[0].set_title('Jet Production Rates / $p_T$ Distributions', fontsize=25, y=1.07)\n",
    "plt.tight_layout()\n",
    "plt.savefig('plots/jet_production_rates.pdf', bbox_inches='tight')\n",
    "plt.show()"
   ]
  },
  {
   "cell_type": "code",
   "execution_count": 13,
   "id": "a93e97c0-7295-4365-8672-2666185f08df",
   "metadata": {},
   "outputs": [
    {
     "data": {
      "image/png": "[encoded data removed]",
      "text/plain": [
       "<Figure size 1440x864 with 16 Axes>"
      ]
     },
     "metadata": {},
     "output_type": "display_data"
    }
   ],
   "source": [
    "ampl.use_atlas_style()\n",
    "\n",
    "names = sorted([l for l in hlf.columns if l not in ['event_number', 'PTD', 'tau1', 'tau2', 'tau3', 'tau4']])\n",
    "N = len(names)\n",
    "cols = 4\n",
    "w,h = 5, 3\n",
    "\n",
    "params_dict = {\n",
    "    'Eta': {'name': '$\\eta$'},\n",
    "    'Phi': {'name': '$\\phi$'},\n",
    "    'Charge': {'bins': np.arange(-20, 20.1, 1), 'xlim': (-20, 20), 'yscale': 'log'},\n",
    "    'EhadOverEem': {'name': '$E_{had}/E_{EM}$', 'yscale': 'log', 'xlim': (1e-4, 1e4), 'bins': np.logspace(-3, 4, 100), 'xscale': 'log'},\n",
    "    'PT': {'name': '$p_T$ (GeV)', 'yscale': 'log'},\n",
    "    'Mass': {'name': 'Mass (GeV)', 'yscale': 'log', 'xlim': (-50, 750)},\n",
    "    'NCharged': {'bins': np.arange(0, 100, 1), 'xlim': (-3, 100), 'yscale': 'log'},\n",
    "    'NNeutrals': {'bins': np.arange(0, 100, 1), 'xlim': (-3, 100), 'yscale': 'log'},\n",
    "    'NSubJetsPruned': {'bins': np.arange(0, 6.1, 1), 'density': 1, 'xlim': (-.5, 5), 'yscale': 'log'},\n",
    "    'NSubJetsSoftDropped': {'bins': np.arange(0, 6.1, 1), 'density': 1, 'xlim': (-.5, 5), 'yscale': 'log'},\n",
    "    'jet_number': {'bins': np.arange(0, 8, 1), 'density': 1, 'xlim': (-.5, 8), 'yscale': 'log', 'name': 'Jet #'},\n",
    "    'tau21': {'name': r'$\\tau_{2,1}$','bins': np.linspace(0,1,100), 'xlim':(-.1, 1.1)},\n",
    "    'tau32': {'name': r'$\\tau_{3,2}$','bins': np.linspace(0,1,100), 'xlim':(-.1, 1.1)}\n",
    "}\n",
    "\n",
    "rows = int(np.ceil(N/cols))\n",
    "fig,axs = plt.subplots(rows, cols, figsize=(cols*w, rows*h))\n",
    "\n",
    "for i,(ax,name) in enumerate(zip(axs.flatten(), names)):\n",
    "    params = params_dict[name] if name in params_dict else {}\n",
    "    if 'bins' in params:\n",
    "        bins = params['bins']\n",
    "    else:\n",
    "        bins = np.linspace(min([hlf[name].min(), tthlf[name].min()]), max([hlf[name].max(), tthlf[name].max()]), 100)\n",
    "        \n",
    "    ax.hist(hlf[name], bins=bins, histtype='step', density=params['density'] if 'density' in params else 1, label='Dijet')\n",
    "    ax.hist(tthlf[name], bins=bins, histtype='step', density=params['density'] if 'density' in params else 1, label=r'$t\\bar{t}$')\n",
    "    ax.set_title(name if 'name' not in params else params['name'])\n",
    "    if 'yscale' in params: ax.set_yscale(params['yscale'])\n",
    "    if 'xscale' in params: ax.set_xscale(params['xscale'])\n",
    "    if 'ylim' in params: ax.set_ylim(*params['ylim'])\n",
    "    if 'xlim' in params: ax.set_xlim(*params['xlim'])\n",
    "    atlasify(axes=ax, atlas=False)\n",
    "    if i > 0:\n",
    "        ax.get_legend().remove()\n",
    "for j in range(i+1, cols*rows):\n",
    "    axs.flatten()[j].axis('off')\n",
    "axs[0,0].legend()\n",
    "plt.tight_layout()\n",
    "fig.suptitle(r'HLF Feature Plots, Dijet/$t\\bar{t}$', fontsize=25, y=1.03)\n",
    "plt.savefig('plots/all_hlf_features.pdf', bbox_inches='tight')\n",
    "plt.show()"
   ]
  },
  {
   "cell_type": "markdown",
   "id": "36ae6d38-6129-4d7f-982b-a9be3ed1dc1e",
   "metadata": {},
   "source": [
    "## models"
   ]
  },
  {
   "cell_type": "code",
   "execution_count": 14,
   "id": "661e4529-f283-429b-97b2-e9f43dc977eb",
   "metadata": {},
   "outputs": [],
   "source": [
    "hlf_to_train = [\n",
    "    # 'Eta',\n",
    "    # 'Phi',\n",
    "    'Charge',\n",
    "    'EhadOverEem',\n",
    "    'PT',\n",
    "    'Mass',\n",
    "    'NCharged',\n",
    "    'NNeutrals',\n",
    "    'tau21',\n",
    "    'tau32',\n",
    "]\n",
    "\n",
    "from sklearn.model_selection import KFold\n",
    "\n",
    "seed = 42\n",
    "N_kfolds = 4\n",
    "shuffle = False\n",
    "\n",
    "# significances of signal injection\n",
    "injection_fracs = np.array([0., .005, 0.01, .02])\n",
    "\n",
    "max_bkg = -1\n",
    "if max_bkg < 0:\n",
    "    max_bkg = len(hlf)\n",
    "\n",
    "N_bkg = min((len(hlf), max_bkg))\n",
    "\n",
    "N_sigs = np.round(injection_fracs*N_bkg).astype(int)\n",
    "# N_sigs = np.round(np.sqrt(N_bkg - N_bkg/N_kfolds)*injection_sigs).astype(int)\n",
    "\n",
    "data_x = [pd.concat([hlf.sample(N_bkg, random_state=seed), tthlf.sample(N_sig, random_state=seed)]).reset_index(drop=True) for N_sig in N_sigs]\n",
    "data_y = [pd.Series(np.concatenate([np.zeros(N_bkg), np.ones(N_sig)]), index=data_x[i].index) for i,N_sig in enumerate(N_sigs)]\n",
    "data_ttbar = [tthlf[~tthlf.index.isin(tthlf.sample(N_sig, random_state=seed).index)].reset_index(drop=True) for N_sig in N_sigs]\n",
    "\n",
    "kf = KFold(N_kfolds, shuffle=True, random_state=seed)\n",
    "fraction = 1/N_kfolds\n",
    "\n",
    "train_test_idx = [[(data_x[i].index[sp[0]], data_x[i].index[sp[1]]) for sp in list(kf.split(data_x[i].index))] for i in range(len(data_x))]"
   ]
  },
  {
   "cell_type": "code",
   "execution_count": 15,
   "id": "dc0c0818-394f-4fb2-80ae-2bd659b8e4d4",
   "metadata": {},
   "outputs": [],
   "source": [
    "import warnings\n",
    "ampl.use_atlas_style()\n",
    "\n",
    "warnings.filterwarnings('ignore', 'RuntimeWarning')\n",
    "\n",
    "def minmax_norm(train, test, features):\n",
    "    \n",
    "    f_app = lambda x: (x - mi)/(ma - mi)\n",
    "    train_c, test_c = train.copy(), test.copy()\n",
    "    if 'EhadOverEem' in train:\n",
    "        train_c['EhadOverEem'] = np.log(train_c.EhadOverEem + 1e-3)\n",
    "        test_c['EhadOverEem'] = np.log(test_c.EhadOverEem + 1e-3)\n",
    "    mi, ma = train_c[features].min(), train_c[features].max()\n",
    "    \n",
    "    tr,te = f_app(train_c[features]), f_app(test_c[features])\n",
    "    \n",
    "    return tr, te\n",
    "\n",
    "def plot_train_test_datasets(train, test, ttbar, save_path=None, show=True, title='No Title', n_bins=50, ncols=3, figh=6, figw=7, frac_size=0.33):\n",
    "    rows,cols = int(np.ceil(len(train.columns)/ncols)),int(ncols)\n",
    "\n",
    "    fig, axs = plt.subplots(2*rows, cols, figsize=(cols*figw, rows*figh), gridspec_kw={'height_ratios': [1, frac_size,]*rows})\n",
    "\n",
    "    axs = axs.T.reshape(cols, rows, -1).reshape(cols*rows,-1)\n",
    "    \n",
    "    ranges = pd.concat([pd.concat([train,test,ttbar]).min(), pd.concat([train, test, ttbar]).max()], axis=1)\n",
    "    for i,f in enumerate(train.columns):\n",
    "        bins = np.linspace(*ranges.loc[f], n_bins)\n",
    "        \n",
    "        axs[i,0].hist(train[f], histtype='step', bins=bins, density=1)\n",
    "        axs[i,0].hist(test[f], histtype='step', bins=bins, density=1)\n",
    "        axs[i,0].hist(ttbar[f], histtype='step', bins=bins, density=1)\n",
    "        \n",
    "        if f.startswith('M'): \n",
    "            axs[i,0].set_yscale('log')\n",
    "        tr = np.histogram(train[f], bins=bins)[0]\n",
    "        tr_normc = (np.diff(bins)*tr).sum()\n",
    "        te = np.histogram(test[f], bins=bins)[0]\n",
    "        te_normc = (np.diff(bins)*te).sum()\n",
    "        for e in [-2, 0, 2]:\n",
    "            axs[i,1].axhline(e, color='tab:grey', ls=':' if abs(e)>0 else '-')\n",
    "        axs[i,1].axhspan(-1, 1, color='tab:grey', alpha=0.3)\n",
    "        axs[i,1].plot(np.diff(bins)*.5 + bins[:-1], (te/te_normc - tr/tr_normc)/(np.sqrt(1e-8 + te/(te_normc**2.) + tr/(tr_normc**2.))),color='black', marker='o')\n",
    "        axs[i,1].set_ylim(-5, 5)\n",
    "        axs[i,1].set_yticks(np.arange(-4, 4.01, 2))\n",
    "        axs[i,1].set_ylabel('(test - train)/\\nerror')\n",
    "        axs[i,0].set_ylabel('Count')\n",
    "        axs[i,1].set_xlabel('{}, normalized'.format(f), fontsize=15)\n",
    "    for j in range(i+1, len(axs)):\n",
    "        axs[j,0].axis('off')\n",
    "        axs[j,1].axis('off')\n",
    "    \n",
    "    fig.suptitle(title, fontsize=26, y=1.01, va='bottom')\n",
    "#         axs[i,0].set_xticks([])\n",
    "#         axs[i,0].set_xlim(axs[i,1].get_xlim())\n",
    "    plt.tight_layout()\n",
    "    if save_path is not None:\n",
    "        plt.savefig(save_path, bbox_inches='tight')\n",
    "    if show:\n",
    "        plt.show()\n",
    "    else:\n",
    "        plt.close()\n",
    "        \n",
    "def create_history_series(history, kfold_n, injection_frac, model_name):\n",
    "    hist_df = pd.DataFrame(history.history).stack().swaplevel(0,1).sort_index()\n",
    "    hist_df.index.names = ['metric', 'epoch']\n",
    "\n",
    "    for idx_key, idx_name in zip([kfold_n, injection_frac, model_name], ['kfold', 'sb_ratio', 'model']):\n",
    "        hist_df = pd.concat({idx_key: hist_df}, names=[idx_name])\n",
    "    return hist_df\n",
    "\n",
    "def update_pickle(key, new, path):\n",
    "    comb = None\n",
    "    if os.path.exists(path):\n",
    "        comb = pd.read_pickle(path)\n",
    "    if comb is not None:\n",
    "        if key in comb.index:\n",
    "            return\n",
    "    comb = pd.concat([comb, new])\n",
    "    comb.to_pickle(path)\n",
    "\n",
    "def load_pickle(path):\n",
    "    return pd.read_pickle(path)\n",
    "\n",
    "def create_data_series(res, kfold_n, injection_frac, model_name):\n",
    "    df = res.stack()\n",
    "    for idx_key, idx_name in zip([kfold_n, injection_frac, model_name], ['kfold', 'sb_ratio', 'model']):\n",
    "        df = pd.concat({idx_key: df}, names=[idx_name])\n",
    "    return df\n",
    "\n",
    "def check_data_key(key, path):\n",
    "    exists = False\n",
    "    try:\n",
    "        exists = key in load_pickle(path).index\n",
    "    except FileNotFoundError:\n",
    "        pass\n",
    "    return exists"
   ]
  },
  {
   "cell_type": "markdown",
   "id": "8c226929-6fcb-402c-ad60-da8f07a668cf",
   "metadata": {},
   "source": [
    "# simple AE, 3 node"
   ]
  },
  {
   "cell_type": "code",
   "execution_count": 26,
   "id": "d9458d3e-7e20-4057-b38b-b60bef571210",
   "metadata": {},
   "outputs": [
    {
     "data": {
      "application/vnd.jupyter.widget-view+json": {
       "model_id": "a90b1a4687154fb69acc78f4521e2ccb",
       "version_major": 2,
       "version_minor": 0
      },
      "text/plain": [
       "  0%|          | 0/16 [00:00<?, ?it/s]"
      ]
     },
     "metadata": {},
     "output_type": "display_data"
    },
    {
     "ename": "Exception",
     "evalue": "",
     "output_type": "error",
     "traceback": [
      "\u001b[0;31m---------------------------------------------------------------------------\u001b[0m",
      "\u001b[0;31mException\u001b[0m                                 Traceback (most recent call last)",
      "\u001b[0;32m/tmp/ipykernel_108764/4115860653.py\u001b[0m in \u001b[0;36m<module>\u001b[0;34m\u001b[0m\n\u001b[1;32m     87\u001b[0m \u001b[0;34m\u001b[0m\u001b[0m\n\u001b[1;32m     88\u001b[0m             \u001b[0;31m# fit model\u001b[0m\u001b[0;34m\u001b[0m\u001b[0;34m\u001b[0m\u001b[0;34m\u001b[0m\u001b[0m\n\u001b[0;32m---> 89\u001b[0;31m             \u001b[0;32mraise\u001b[0m \u001b[0mException\u001b[0m\u001b[0;34m(\u001b[0m\u001b[0;34m)\u001b[0m\u001b[0;34m\u001b[0m\u001b[0;34m\u001b[0m\u001b[0m\n\u001b[0m\u001b[1;32m     90\u001b[0m             history = model.fit(\n\u001b[1;32m     91\u001b[0m                 \u001b[0mx\u001b[0m\u001b[0;34m=\u001b[0m\u001b[0mx_tr_norm\u001b[0m\u001b[0;34m.\u001b[0m\u001b[0mvalues\u001b[0m\u001b[0;34m,\u001b[0m\u001b[0;34m\u001b[0m\u001b[0;34m\u001b[0m\u001b[0m\n",
      "\u001b[0;31mException\u001b[0m: "
     ]
    }
   ],
   "source": [
    "from tensorflow.keras import layers\n",
    "from tqdm.notebook import tqdm\n",
    "from keras import backend as K\n",
    "\n",
    "\n",
    "\n",
    "\n",
    "def variational_AE(columns=hlf_to_train, intermediate_dim=8, latent_dim=2):\n",
    "    # This is the size of our encoded representations\n",
    "    \n",
    "    def sampling(args):\n",
    "        z_mean, z_log_sigma = args\n",
    "        epsilon = K.random_normal(shape=(K.shape(z_mean)[0], latent_dim),\n",
    "                                  mean=0., stddev=0.1)\n",
    "        return z_mean + K.exp(z_log_sigma) * epsilon\n",
    "    original_dim = len(hlf_to_train)\n",
    "    inputs = keras.Input(shape=(original_dim,))\n",
    "    h = layers.Dense(intermediate_dim, activation='relu')(inputs)\n",
    "    z_mean = layers.Dense(latent_dim)(h)\n",
    "    z_log_sigma = layers.Dense(latent_dim)(h)\n",
    "    z = layers.Lambda(sampling)([z_mean, z_log_sigma])\n",
    "    # Create encoder\n",
    "    encoder = keras.Model(inputs, [z_mean, z_log_sigma, z], name='encoder')\n",
    "\n",
    "    # Create decoder\n",
    "    latent_inputs = keras.Input(shape=(latent_dim,), name='z_sampling')\n",
    "    x = layers.Dense(intermediate_dim, activation='relu')(latent_inputs)\n",
    "    outputs = layers.Dense(original_dim, activation='sigmoid')(x)\n",
    "    decoder = keras.Model(latent_inputs, outputs, name='decoder')\n",
    "\n",
    "    # instantiate VAE model\n",
    "    outputs = decoder(encoder(inputs)[2])\n",
    "    vae = keras.Model(inputs, outputs, name='vae_mlp')\n",
    "    \n",
    "    reconstruction_loss = keras.losses.binary_crossentropy(inputs, outputs)\n",
    "    reconstruction_loss *= original_dim\n",
    "    kl_loss = 1 + z_log_sigma - K.square(z_mean) - K.exp(z_log_sigma)\n",
    "    kl_loss = K.sum(kl_loss, axis=-1)\n",
    "    kl_loss *= -0.5\n",
    "    vae_loss = K.mean(reconstruction_loss + kl_loss)\n",
    "    vae.add_loss(vae_loss)\n",
    "    vae.compile(optimizer='adam')\n",
    "    \n",
    "    return vae\n",
    "\n",
    "N_early_stopping_epochs = 10\n",
    "N_epochs = 200\n",
    "batch_size = 500\n",
    "verbose = False\n",
    "model_name = 'variational'\n",
    "title_desc = '{} model | S/B = {} | Kfold #{}'\n",
    "plot_desc = 'plots/train_test_verifications/{}-model_{}-sbr_kfold-{}.pdf'\n",
    "\n",
    "data_save_path = 'results/results_{}-model.pkl'.format(model_name)\n",
    "hist_save_path = 'results/history_{}-model.pkl'.format(model_name)\n",
    "\n",
    "pbar = tqdm(\n",
    "    total=len(injection_fracs)*len(train_test_idx),\n",
    ")\n",
    "\n",
    "for i,frac in enumerate(injection_fracs):\n",
    "    x, y, tt = data_x[i], data_y[i], data_ttbar[i]\n",
    "    \n",
    "    for kfold,(train_idx, test_idx) in enumerate(train_test_idx[i]):\n",
    "        \n",
    "        key = (model_name, frac, kfold)\n",
    "\n",
    "        pbar.set_description(title_desc.format(*key))\n",
    "     \n",
    "        \n",
    "        if not check_data_key(key, data_save_path):\n",
    "            x_train, x_test, y_train, y_test = x.loc[train_idx], x.loc[test_idx], y[train_idx], y[test_idx]\n",
    "            x_tr_norm, x_te_norm = minmax_norm(x_train, x_test, hlf_to_train)\n",
    "\n",
    "            _, x_ttbar_norm = minmax_norm(x_train, tt, hlf_to_train)\n",
    "\n",
    "            model = variational_AE()\n",
    "\n",
    "            # add a callback\n",
    "            callback = keras.callbacks.EarlyStopping(monitor='val_loss', patience=N_early_stopping_epochs)\n",
    "\n",
    "            # plot and save normalized data, right before saving\n",
    "            plot_train_test_datasets(\n",
    "                x_tr_norm, x_te_norm, x_ttbar_norm, title=title_desc.format(*key), \n",
    "                save_path=plot_desc.format(*key), show=False\n",
    "            )\n",
    "\n",
    "            # fit model\n",
    "            raise Exception()\n",
    "            history = model.fit(\n",
    "                x=x_tr_norm.values,\n",
    "                y=x_tr_norm.values,\n",
    "                validation_data=(\n",
    "                    x_te_norm.values,\n",
    "                    x_te_norm.values\n",
    "                ),\n",
    "                epochs=N_epochs,\n",
    "                batch_size=batch_size,\n",
    "                shuffle=True,\n",
    "                verbose=verbose,\n",
    "                callbacks=[callback],\n",
    "            )\n",
    "\n",
    "            update_pickle(\n",
    "                key,\n",
    "                create_history_series(history, *reversed(key)),\n",
    "                hist_save_path\n",
    "            )\n",
    "\n",
    "            x_eval_norm = pd.concat([x_te_norm, x_ttbar_norm]).reset_index(drop=1)\n",
    "            y_eval = np.concatenate([y_test, np.ones(len(x_ttbar_norm))])\n",
    "            is_kfold = kfold*np.ones_like(y_eval)\n",
    "            kfold_part_tag = np.concatenate([np.ones_like(y_test), np.zeros(len(x_ttbar_norm))])\n",
    "\n",
    "            x_eval_normhat = model.predict(x_eval_norm)\n",
    "            x_err_norm = x_eval_norm - x_eval_normhat\n",
    "            y_eval_hat = keras.losses.get(model.loss)(x_eval_norm.values, x_eval_normhat).numpy()\n",
    "\n",
    "            res = pd.concat([pd.DataFrame({'y': y_eval, 'yhat': y_eval_hat, 'kfold': is_kfold, 'in_fold': kfold_part_tag}, ), x_eval_norm.reset_index(drop=True)], axis=1)\n",
    "            res.index.name = 'count'\n",
    "\n",
    "            update_pickle(\n",
    "                key,\n",
    "                create_data_series(res, *reversed(key)),\n",
    "                data_save_path\n",
    "            )\n",
    "\n",
    "        pbar.update(1)\n"
   ]
  },
  {
   "cell_type": "code",
   "execution_count": 30,
   "id": "a9976c71-7751-45d0-8554-8edb03fb14cc",
   "metadata": {},
   "outputs": [
    {
     "name": "stdout",
     "output_type": "stream",
     "text": [
      "487/487 [==============================] - 1s 1ms/step - loss: 4.2983\n"
     ]
    },
    {
     "data": {
      "text/plain": [
       "<keras.callbacks.History at 0x7f43347cc880>"
      ]
     },
     "execution_count": 30,
     "metadata": {},
     "output_type": "execute_result"
    }
   ],
   "source": [
    "model.fit(x_tr_norm, x_tr_norm, batch_size=500)"
   ]
  },
  {
   "cell_type": "code",
   "execution_count": 591,
   "id": "663e9af1-319f-4e74-9c6f-50abda787c99",
   "metadata": {},
   "outputs": [
    {
     "data": {
      "text/plain": [
       "model   sb_ratio  kfold  count           \n",
       "simple  0.0       0      0      y            0.000000\n",
       "                                yhat         0.489590\n",
       "                                kfold        0.000000\n",
       "                                in_fold      1.000000\n",
       "                                Charge       0.645161\n",
       "                                               ...   \n",
       "                         87834  Mass         0.458922\n",
       "                                NCharged     0.380531\n",
       "                                NNeutrals    0.447917\n",
       "                                tau21        0.407381\n",
       "                                tau32        0.407308\n",
       "Length: 1054020, dtype: float64"
      ]
     },
     "execution_count": 591,
     "metadata": {},
     "output_type": "execute_result"
    }
   ],
   "source": []
  },
  {
   "cell_type": "code",
   "execution_count": 590,
   "id": "f5846cc8-5edb-4554-8c26-9c8f7393b06f",
   "metadata": {},
   "outputs": [],
   "source": []
  },
  {
   "cell_type": "code",
   "execution_count": 557,
   "id": "8e6f678a-6563-46db-b46f-2b60ea8c4ca4",
   "metadata": {},
   "outputs": [],
   "source": [
    "\n",
    "data_save_path = 'results/results_{}-model.pkl'.format(model_name)\n",
    "hist_save_path = 'results/history_{}-model.pkl'.format(model_name)\n",
    "\n",
    "update_pickle(\n",
    "            create_history_series(history, *reversed(key)),\n",
    "            hist_save_path\n",
    "        )"
   ]
  },
  {
   "cell_type": "code",
   "execution_count": 554,
   "id": "bcf8f85d-f68d-4b11-80c3-b5918efdf2d2",
   "metadata": {},
   "outputs": [
    {
     "data": {
      "text/plain": [
       "sb_ratiomodel  kfold  metric    epoch\n",
       "0.0            0      loss      0        0.629918\n",
       "                                1        0.552489\n",
       "                                2        0.545666\n",
       "                                3        0.542587\n",
       "                                4        0.539823\n",
       "                                5        0.538238\n",
       "                                6        0.537608\n",
       "                                7        0.537197\n",
       "                                8        0.533383\n",
       "                                9        0.531599\n",
       "                                10       0.530741\n",
       "                                11       0.530248\n",
       "                                12       0.529982\n",
       "                                13       0.529829\n",
       "                                14       0.529733\n",
       "                                15       0.529665\n",
       "                                16       0.529618\n",
       "                                17       0.529583\n",
       "                                18       0.529560\n",
       "                                19       0.529544\n",
       "                      val_loss  0        0.566677\n",
       "                                1        0.547021\n",
       "                                2        0.543924\n",
       "                                3        0.540852\n",
       "                                4        0.538596\n",
       "                                5        0.537623\n",
       "                                6        0.537222\n",
       "                                7        0.535432\n",
       "                                8        0.532001\n",
       "                                9        0.530920\n",
       "                                10       0.530239\n",
       "                                11       0.529867\n",
       "                                12       0.529660\n",
       "                                13       0.529535\n",
       "                                14       0.529453\n",
       "                                15       0.529395\n",
       "                                16       0.529356\n",
       "                                17       0.529322\n",
       "                                18       0.529305\n",
       "                                19       0.529294\n",
       "dtype: float64"
      ]
     },
     "execution_count": 554,
     "metadata": {},
     "output_type": "execute_result"
    }
   ],
   "source": []
  },
  {
   "cell_type": "code",
   "execution_count": 494,
   "id": "c0391b5d-ba61-4253-8351-5b90e4a1a011",
   "metadata": {},
   "outputs": [
    {
     "data": {
      "text/plain": [
       "0        0.0\n",
       "1        0.0\n",
       "2        0.0\n",
       "3        0.0\n",
       "4        0.0\n",
       "        ... \n",
       "87830    1.0\n",
       "87831    1.0\n",
       "87832    1.0\n",
       "87833    1.0\n",
       "87834    1.0\n",
       "Name: y, Length: 87835, dtype: float64"
      ]
     },
     "execution_count": 494,
     "metadata": {},
     "output_type": "execute_result"
    }
   ],
   "source": []
  },
  {
   "cell_type": "code",
   "execution_count": 551,
   "id": "a045c5c0-56e1-4f33-8788-984e4bf10125",
   "metadata": {},
   "outputs": [],
   "source": [
    "x_eval_norm = pd.concat([x_te_norm, x_ttbar_norm]).reset_index(drop=1)\n",
    "y_eval = np.concatenate([y_test, np.ones(len(x_ttbar_norm))])\n",
    "is_kfold = kfold*np.ones_like(y_eval)\n",
    "kfold_part_tag = np.concatenate([np.ones_like(y_test), np.zeros(len(x_ttbar_norm))])\n",
    "\n",
    "x_eval_normhat = model.predict(x_eval_norm)\n",
    "x_err_norm = x_eval_norm - x_eval_normhat\n",
    "y_eval_hat = keras.losses.get(model.loss)(x_eval_norm.values, x_eval_normhat).numpy()\n",
    "\n",
    "res = pd.concat([pd.DataFrame({'y': y_eval, 'yhat': y_eval_hat, 'kfold': is_kfold, 'in_fold': kfold_part_tag}, ), x_eval_norm.reset_index(drop=True)], axis=1)\n",
    "res.index.name = 'count'"
   ]
  },
  {
   "cell_type": "code",
   "execution_count": 552,
   "id": "3e50c047-e6f8-4a7d-b62b-199c0f66a7f6",
   "metadata": {},
   "outputs": [
    {
     "data": {
      "text/html": [
       "<div>\n",
       "<style scoped>\n",
       "    .dataframe tbody tr th:only-of-type {\n",
       "        vertical-align: middle;\n",
       "    }\n",
       "\n",
       "    .dataframe tbody tr th {\n",
       "        vertical-align: top;\n",
       "    }\n",
       "\n",
       "    .dataframe thead th {\n",
       "        text-align: right;\n",
       "    }\n",
       "</style>\n",
       "<table border=\"1\" class=\"dataframe\">\n",
       "  <thead>\n",
       "    <tr style=\"text-align: right;\">\n",
       "      <th></th>\n",
       "      <th>y</th>\n",
       "      <th>yhat</th>\n",
       "      <th>kfold</th>\n",
       "      <th>in_fold</th>\n",
       "      <th>Charge</th>\n",
       "      <th>EhadOverEem</th>\n",
       "      <th>PT</th>\n",
       "      <th>Mass</th>\n",
       "      <th>NCharged</th>\n",
       "      <th>NNeutrals</th>\n",
       "      <th>tau21</th>\n",
       "      <th>tau32</th>\n",
       "    </tr>\n",
       "    <tr>\n",
       "      <th>count</th>\n",
       "      <th></th>\n",
       "      <th></th>\n",
       "      <th></th>\n",
       "      <th></th>\n",
       "      <th></th>\n",
       "      <th></th>\n",
       "      <th></th>\n",
       "      <th></th>\n",
       "      <th></th>\n",
       "      <th></th>\n",
       "      <th></th>\n",
       "      <th></th>\n",
       "    </tr>\n",
       "  </thead>\n",
       "  <tbody>\n",
       "    <tr>\n",
       "      <th>0</th>\n",
       "      <td>0.0</td>\n",
       "      <td>0.489590</td>\n",
       "      <td>0.0</td>\n",
       "      <td>1.0</td>\n",
       "      <td>0.645161</td>\n",
       "      <td>0.477717</td>\n",
       "      <td>0.025136</td>\n",
       "      <td>0.083714</td>\n",
       "      <td>0.230088</td>\n",
       "      <td>0.187500</td>\n",
       "      <td>0.811071</td>\n",
       "      <td>0.701654</td>\n",
       "    </tr>\n",
       "    <tr>\n",
       "      <th>1</th>\n",
       "      <td>0.0</td>\n",
       "      <td>0.445963</td>\n",
       "      <td>0.0</td>\n",
       "      <td>1.0</td>\n",
       "      <td>0.483871</td>\n",
       "      <td>0.249074</td>\n",
       "      <td>0.052892</td>\n",
       "      <td>0.125047</td>\n",
       "      <td>0.079646</td>\n",
       "      <td>0.104167</td>\n",
       "      <td>0.923581</td>\n",
       "      <td>0.521129</td>\n",
       "    </tr>\n",
       "    <tr>\n",
       "      <th>2</th>\n",
       "      <td>0.0</td>\n",
       "      <td>0.584682</td>\n",
       "      <td>0.0</td>\n",
       "      <td>1.0</td>\n",
       "      <td>0.612903</td>\n",
       "      <td>0.543676</td>\n",
       "      <td>0.003926</td>\n",
       "      <td>0.273325</td>\n",
       "      <td>0.362832</td>\n",
       "      <td>0.312500</td>\n",
       "      <td>0.468716</td>\n",
       "      <td>0.632156</td>\n",
       "    </tr>\n",
       "    <tr>\n",
       "      <th>3</th>\n",
       "      <td>0.0</td>\n",
       "      <td>0.449361</td>\n",
       "      <td>0.0</td>\n",
       "      <td>1.0</td>\n",
       "      <td>0.516129</td>\n",
       "      <td>0.399029</td>\n",
       "      <td>0.006084</td>\n",
       "      <td>0.060636</td>\n",
       "      <td>0.159292</td>\n",
       "      <td>0.156250</td>\n",
       "      <td>0.826324</td>\n",
       "      <td>0.710108</td>\n",
       "    </tr>\n",
       "    <tr>\n",
       "      <th>4</th>\n",
       "      <td>0.0</td>\n",
       "      <td>0.560775</td>\n",
       "      <td>0.0</td>\n",
       "      <td>1.0</td>\n",
       "      <td>0.548387</td>\n",
       "      <td>0.579655</td>\n",
       "      <td>0.004734</td>\n",
       "      <td>0.279184</td>\n",
       "      <td>0.292035</td>\n",
       "      <td>0.145833</td>\n",
       "      <td>0.479353</td>\n",
       "      <td>0.619253</td>\n",
       "    </tr>\n",
       "    <tr>\n",
       "      <th>...</th>\n",
       "      <td>...</td>\n",
       "      <td>...</td>\n",
       "      <td>...</td>\n",
       "      <td>...</td>\n",
       "      <td>...</td>\n",
       "      <td>...</td>\n",
       "      <td>...</td>\n",
       "      <td>...</td>\n",
       "      <td>...</td>\n",
       "      <td>...</td>\n",
       "      <td>...</td>\n",
       "      <td>...</td>\n",
       "    </tr>\n",
       "    <tr>\n",
       "      <th>87830</th>\n",
       "      <td>1.0</td>\n",
       "      <td>0.537967</td>\n",
       "      <td>0.0</td>\n",
       "      <td>0.0</td>\n",
       "      <td>0.322581</td>\n",
       "      <td>0.436050</td>\n",
       "      <td>0.003018</td>\n",
       "      <td>0.161940</td>\n",
       "      <td>0.300885</td>\n",
       "      <td>0.197917</td>\n",
       "      <td>0.543865</td>\n",
       "      <td>0.752309</td>\n",
       "    </tr>\n",
       "    <tr>\n",
       "      <th>87831</th>\n",
       "      <td>1.0</td>\n",
       "      <td>0.607620</td>\n",
       "      <td>0.0</td>\n",
       "      <td>0.0</td>\n",
       "      <td>0.548387</td>\n",
       "      <td>0.519551</td>\n",
       "      <td>0.069728</td>\n",
       "      <td>0.257733</td>\n",
       "      <td>0.221239</td>\n",
       "      <td>0.385417</td>\n",
       "      <td>0.462666</td>\n",
       "      <td>0.493370</td>\n",
       "    </tr>\n",
       "    <tr>\n",
       "      <th>87832</th>\n",
       "      <td>1.0</td>\n",
       "      <td>0.512568</td>\n",
       "      <td>0.0</td>\n",
       "      <td>0.0</td>\n",
       "      <td>0.516129</td>\n",
       "      <td>0.324847</td>\n",
       "      <td>0.055958</td>\n",
       "      <td>0.100590</td>\n",
       "      <td>0.265487</td>\n",
       "      <td>0.145833</td>\n",
       "      <td>0.701355</td>\n",
       "      <td>0.739715</td>\n",
       "    </tr>\n",
       "    <tr>\n",
       "      <th>87833</th>\n",
       "      <td>1.0</td>\n",
       "      <td>0.605340</td>\n",
       "      <td>0.0</td>\n",
       "      <td>0.0</td>\n",
       "      <td>0.483871</td>\n",
       "      <td>0.361482</td>\n",
       "      <td>0.008146</td>\n",
       "      <td>0.301484</td>\n",
       "      <td>0.292035</td>\n",
       "      <td>0.385417</td>\n",
       "      <td>0.413619</td>\n",
       "      <td>0.394714</td>\n",
       "    </tr>\n",
       "    <tr>\n",
       "      <th>87834</th>\n",
       "      <td>1.0</td>\n",
       "      <td>0.673372</td>\n",
       "      <td>0.0</td>\n",
       "      <td>0.0</td>\n",
       "      <td>0.612903</td>\n",
       "      <td>0.389131</td>\n",
       "      <td>0.166369</td>\n",
       "      <td>0.458922</td>\n",
       "      <td>0.380531</td>\n",
       "      <td>0.447917</td>\n",
       "      <td>0.407381</td>\n",
       "      <td>0.407308</td>\n",
       "    </tr>\n",
       "  </tbody>\n",
       "</table>\n",
       "<p>87835 rows × 12 columns</p>\n",
       "</div>"
      ],
      "text/plain": [
       "         y      yhat  kfold  in_fold    Charge  EhadOverEem        PT  \\\n",
       "count                                                                   \n",
       "0      0.0  0.489590    0.0      1.0  0.645161     0.477717  0.025136   \n",
       "1      0.0  0.445963    0.0      1.0  0.483871     0.249074  0.052892   \n",
       "2      0.0  0.584682    0.0      1.0  0.612903     0.543676  0.003926   \n",
       "3      0.0  0.449361    0.0      1.0  0.516129     0.399029  0.006084   \n",
       "4      0.0  0.560775    0.0      1.0  0.548387     0.579655  0.004734   \n",
       "...    ...       ...    ...      ...       ...          ...       ...   \n",
       "87830  1.0  0.537967    0.0      0.0  0.322581     0.436050  0.003018   \n",
       "87831  1.0  0.607620    0.0      0.0  0.548387     0.519551  0.069728   \n",
       "87832  1.0  0.512568    0.0      0.0  0.516129     0.324847  0.055958   \n",
       "87833  1.0  0.605340    0.0      0.0  0.483871     0.361482  0.008146   \n",
       "87834  1.0  0.673372    0.0      0.0  0.612903     0.389131  0.166369   \n",
       "\n",
       "           Mass  NCharged  NNeutrals     tau21     tau32  \n",
       "count                                                     \n",
       "0      0.083714  0.230088   0.187500  0.811071  0.701654  \n",
       "1      0.125047  0.079646   0.104167  0.923581  0.521129  \n",
       "2      0.273325  0.362832   0.312500  0.468716  0.632156  \n",
       "3      0.060636  0.159292   0.156250  0.826324  0.710108  \n",
       "4      0.279184  0.292035   0.145833  0.479353  0.619253  \n",
       "...         ...       ...        ...       ...       ...  \n",
       "87830  0.161940  0.300885   0.197917  0.543865  0.752309  \n",
       "87831  0.257733  0.221239   0.385417  0.462666  0.493370  \n",
       "87832  0.100590  0.265487   0.145833  0.701355  0.739715  \n",
       "87833  0.301484  0.292035   0.385417  0.413619  0.394714  \n",
       "87834  0.458922  0.380531   0.447917  0.407381  0.407308  \n",
       "\n",
       "[87835 rows x 12 columns]"
      ]
     },
     "execution_count": 552,
     "metadata": {},
     "output_type": "execute_result"
    }
   ],
   "source": []
  },
  {
   "cell_type": "code",
   "execution_count": 526,
   "id": "acf604e0-2472-4b04-83d0-e0899bd8250c",
   "metadata": {},
   "outputs": [
    {
     "data": {
      "text/plain": [
       "(array([ 0.01794154,  0.01794154,  0.01794161,  0.05382463,  0.03588308,\n",
       "         0.05382463,  0.14353286,  0.2152985 ,  0.16147388,  0.32294776,\n",
       "         0.37677374,  0.77148631,  0.75354477,  1.47120645,  1.22002927,\n",
       "         1.5788557 ,  2.08121888,  2.85270519,  2.8706571 ,  3.15769999,\n",
       "         3.3012676 ,  3.82154846,  3.83949   ,  4.27008701,  4.59303477,\n",
       "         4.50332706,  4.89804098,  5.5439365 ,  6.36924743,  7.78668553,\n",
       "         9.41930958, 10.22667897,  9.45519267,  7.32014916,  5.27481337,\n",
       "         3.85743154,  2.40416664,  1.68651714,  1.41738182,  0.84325248,\n",
       "         0.59207089,  0.48442164,  0.44853855,  0.28706467,  0.10764925,\n",
       "         0.08970836,  0.05382463,  0.10764925,  0.03588308,  0.03588308]),\n",
       " array([0.33809197, 0.34633946, 0.35458696, 0.36283442, 0.37108192,\n",
       "        0.3793294 , 0.3875769 , 0.39582437, 0.40407187, 0.41231936,\n",
       "        0.42056686, 0.42881432, 0.43706182, 0.4453093 , 0.4535568 ,\n",
       "        0.46180427, 0.47005177, 0.47829926, 0.48654675, 0.49479422,\n",
       "        0.50304174, 0.5112892 , 0.5195367 , 0.52778417, 0.53603166,\n",
       "        0.54427916, 0.55252665, 0.56077415, 0.56902164, 0.57726914,\n",
       "        0.5855166 , 0.59376407, 0.60201156, 0.61025906, 0.61850655,\n",
       "        0.62675405, 0.63500154, 0.64324903, 0.65149647, 0.65974396,\n",
       "        0.66799146, 0.67623895, 0.68448645, 0.69273394, 0.70098144,\n",
       "        0.70922893, 0.71747637, 0.72572386, 0.73397136, 0.74221885,\n",
       "        0.75046635], dtype=float32),\n",
       " [<matplotlib.patches.Polygon at 0x7f062fd94520>])"
      ]
     },
     "execution_count": 526,
     "metadata": {},
     "output_type": "execute_result"
    },
    {
     "data": {
      "image/png": "[encoded data removed]",
      "text/plain": [
       "<Figure size 799.992x599.976 with 1 Axes>"
      ]
     },
     "metadata": {},
     "output_type": "display_data"
    }
   ],
   "source": [
    "plt.hist(y_eval_hat[y_eval ==0], bins=50, histtype='step', density=1)\n",
    "plt.hist(y_eval_hat[y_eval ==1], bins=50, histtype='step', density=1)"
   ]
  },
  {
   "cell_type": "code",
   "execution_count": 511,
   "id": "197ae9ef-6925-4fe4-ac61-3899549baf76",
   "metadata": {},
   "outputs": [
    {
     "ename": "TypeError",
     "evalue": "__init__() missing 2 required positional arguments: 'value_index' and 'dtype'",
     "output_type": "error",
     "traceback": [
      "\u001b[0;31m---------------------------------------------------------------------------\u001b[0m",
      "\u001b[0;31mTypeError\u001b[0m                                 Traceback (most recent call last)",
      "\u001b[0;32m/tmp/ipykernel_79401/3272081701.py\u001b[0m in \u001b[0;36m<module>\u001b[0;34m\u001b[0m\n\u001b[0;32m----> 1\u001b[0;31m \u001b[0mmodel\u001b[0m\u001b[0;34m.\u001b[0m\u001b[0mcompiled_loss\u001b[0m\u001b[0;34m(\u001b[0m\u001b[0mtf\u001b[0m\u001b[0;34m.\u001b[0m\u001b[0mTensor\u001b[0m\u001b[0;34m(\u001b[0m\u001b[0mx_eval_norm\u001b[0m\u001b[0;34m.\u001b[0m\u001b[0mvalues\u001b[0m\u001b[0;34m)\u001b[0m\u001b[0;34m,\u001b[0m \u001b[0mtf\u001b[0m\u001b[0;34m.\u001b[0m\u001b[0mTensor\u001b[0m\u001b[0;34m(\u001b[0m\u001b[0mx_eval_normhat\u001b[0m\u001b[0;34m)\u001b[0m\u001b[0;34m)\u001b[0m\u001b[0;34m\u001b[0m\u001b[0;34m\u001b[0m\u001b[0m\n\u001b[0m",
      "\u001b[0;31mTypeError\u001b[0m: __init__() missing 2 required positional arguments: 'value_index' and 'dtype'"
     ]
    }
   ],
   "source": [
    "model.compiled_loss(tf.Tensor(x_eval_norm.values), tf.Tensor(x_eval_normhat))"
   ]
  },
  {
   "cell_type": "code",
   "execution_count": 520,
   "id": "aaa6279b-a88a-42f9-84cb-9107bc7ad82e",
   "metadata": {},
   "outputs": [
    {
     "data": {
      "text/plain": [
       "array([0.4895897 , 0.44596335, 0.584682  , ..., 0.51256776, 0.6053405 ,\n",
       "       0.67337185], dtype=float32)"
      ]
     },
     "execution_count": 520,
     "metadata": {},
     "output_type": "execute_result"
    }
   ],
   "source": []
  },
  {
   "cell_type": "code",
   "execution_count": 513,
   "id": "943a2963-f739-45c5-8c10-6bda8eecca4d",
   "metadata": {},
   "outputs": [
    {
     "name": "stdout",
     "output_type": "stream",
     "text": [
      "2745/2745 [==============================] - 1s 507us/step - loss: 0.5320\n"
     ]
    },
    {
     "data": {
      "text/plain": [
       "0.5320447087287903"
      ]
     },
     "execution_count": 513,
     "metadata": {},
     "output_type": "execute_result"
    }
   ],
   "source": [
    "model.evaluate(x_eval_norm.values, x_eval_normhat)"
   ]
  },
  {
   "cell_type": "code",
   "execution_count": 30,
   "id": "78a466a2-b789-49f7-8548-09610ce36232",
   "metadata": {},
   "outputs": [
    {
     "data": {
      "text/plain": [
       "3.1415891647338867"
      ]
     },
     "execution_count": 30,
     "metadata": {},
     "output_type": "execute_result"
    }
   ],
   "source": [
    "hlf.Phi.max()"
   ]
  },
  {
   "cell_type": "code",
   "execution_count": 32,
   "id": "fc1c0d1d-c0e3-45aa-aa6d-32777cabbb00",
   "metadata": {},
   "outputs": [
    {
     "name": "stdout",
     "output_type": "stream",
     "text": [
      "Defaulting to user installation because normal site-packages is not writeable\n",
      "Collecting energyflow\n",
      "  Downloading EnergyFlow-1.3.2-py2.py3-none-any.whl (700 kB)\n",
      "\u001b[K     |████████████████████████████████| 700 kB 21.0 MB/s eta 0:00:01\n",
      "\u001b[?25hRequirement already satisfied: six>=1.10.0 in /global/common/software/nersc/shasta2105/tensorflow/2.6.0/lib/python3.8/site-packages (from energyflow) (1.15.0)\n",
      "Collecting wasserstein>=0.3.1\n",
      "  Downloading Wasserstein-1.0.1-cp38-cp38-manylinux_2_12_x86_64.manylinux2010_x86_64.whl (430 kB)\n",
      "\u001b[K     |████████████████████████████████| 430 kB 111.6 MB/s eta 0:00:01\n",
      "\u001b[?25hRequirement already satisfied: h5py>=2.9.0 in /global/common/software/nersc/shasta2105/tensorflow/2.6.0/lib/python3.8/site-packages (from energyflow) (3.1.0)\n",
      "Requirement already satisfied: numpy>=1.16.0 in /global/common/software/nersc/shasta2105/tensorflow/2.6.0/lib/python3.8/site-packages (from energyflow) (1.19.5)\n",
      "Collecting wurlitzer>=2.0.0\n",
      "  Downloading wurlitzer-3.0.2-py3-none-any.whl (7.3 kB)\n",
      "Installing collected packages: wurlitzer, wasserstein, energyflow\n",
      "Successfully installed energyflow-1.3.2 wasserstein-1.0.1 wurlitzer-3.0.2\n"
     ]
    }
   ],
   "source": [
    "!pip install energyflow"
   ]
  },
  {
   "cell_type": "code",
   "execution_count": 33,
   "id": "f08971c7-e8a8-4718-9cc2-b3569df3cb41",
   "metadata": {},
   "outputs": [],
   "source": [
    "import energyflow as ef\n",
    "from energyflow.datasets import qg_jets"
   ]
  },
  {
   "cell_type": "code",
   "execution_count": 34,
   "id": "43120168-9be6-4ffa-bf3b-1c3bcc173a6b",
   "metadata": {},
   "outputs": [
    {
     "name": "stdout",
     "output_type": "stream",
     "text": [
      "Downloading QG_jets.npz from https://www.dropbox.com/s/fclsl7pukcpobsb/QG_jets.npz?dl=1 to /global/homes/l/luclepot/.energyflow/datasets\n"
     ]
    }
   ],
   "source": [
    "x, y = qg_jets.load(10000)"
   ]
  },
  {
   "cell_type": "code",
   "execution_count": 79,
   "id": "b1d4d9da-707e-45d4-ad3d-f7a0be8c82e4",
   "metadata": {},
   "outputs": [
    {
     "data": {
      "text/plain": [
       "array([-2.08080335, -0.38652222])"
      ]
     },
     "execution_count": 79,
     "metadata": {},
     "output_type": "execute_result"
    }
   ],
   "source": [
    "x[:,:,1:3].min(axis=(0,1))"
   ]
  },
  {
   "cell_type": "code",
   "execution_count": 60,
   "id": "efb486fd-19ed-4c5e-b528-06248187c7a5",
   "metadata": {},
   "outputs": [],
   "source": [
    "def weighted_average(df, data_col, weight_col, by_col):\n",
    "    df['_data_times_weight'] = df[data_col] * df[weight_col]\n",
    "    df['_weight_where_notnull'] = df[weight_col] * pd.notnull(df[data_col])\n",
    "    g = df.groupby(by_col)\n",
    "    result = g['_data_times_weight'].sum() / g['_weight_where_notnull'].sum()\n",
    "    del df['_data_times_weight'], df['_weight_where_notnull']\n",
    "    return result\n",
    "\n",
    "avg_eta, avg_phi = (\n",
    "    weighted_average(const.reset_index(), 'Eta', 'Pt', 'count'),\n",
    "    weighted_average(const.reset_index(), 'Phi', 'Pt', 'count')\n",
    ")"
   ]
  },
  {
   "cell_type": "code",
   "execution_count": 88,
   "id": "a56260fb-4c52-4ed3-b2ec-ec74dcd4a048",
   "metadata": {},
   "outputs": [],
   "source": [
    "def angle_diff(a1, a2, deg=False):\n",
    "    if not deg:\n",
    "        a1, a2 = a1*180/np.pi, a2*180/np.pi\n",
    "    diff = ((a2 - a1 + 180) % 360) - 180\n",
    "    if not deg:\n",
    "        return diff*np.pi/180\n",
    "    return diff"
   ]
  },
  {
   "cell_type": "code",
   "execution_count": 111,
   "id": "aa984cb9-faf3-4b0d-864b-a8167452cc22",
   "metadata": {},
   "outputs": [],
   "source": [
    "diffs = angle_diff(const.Phi, hlf.Phi)"
   ]
  },
  {
   "cell_type": "code",
   "execution_count": 113,
   "id": "6b600585-fb3f-4405-b542-a09828cb41a9",
   "metadata": {},
   "outputs": [
    {
     "data": {
      "image/png": "[encoded data removed]",
      "text/plain": [
       "<Figure size 799.992x599.976 with 1 Axes>"
      ]
     },
     "metadata": {},
     "output_type": "display_data"
    }
   ],
   "source": [
    "plt.hist(diffs, bins=100)\n",
    "plt.show()"
   ]
  },
  {
   "cell_type": "code",
   "execution_count": 114,
   "id": "6f7fbcd8-be55-4009-9e95-d75ab03a5d40",
   "metadata": {},
   "outputs": [
    {
     "data": {
      "text/plain": [
       "count   const\n",
       "0       0        0.122852\n",
       "        1        0.393453\n",
       "        2        0.205358\n",
       "        3       -0.270028\n",
       "        4        0.058452\n",
       "                   ...   \n",
       "999999  63      -0.039502\n",
       "        64      -0.229421\n",
       "        65      -0.130264\n",
       "        66      -0.090041\n",
       "        67      -0.181781\n",
       "Name: Phi, Length: 39968707, dtype: float64"
      ]
     },
     "execution_count": 114,
     "metadata": {},
     "output_type": "execute_result"
    }
   ],
   "source": [
    "diffs"
   ]
  },
  {
   "cell_type": "code",
   "execution_count": 109,
   "id": "a08c7a2f-6113-4680-adc9-f316002540f6",
   "metadata": {},
   "outputs": [
    {
     "data": {
      "text/plain": [
       "-0.55554639415823"
      ]
     },
     "execution_count": 109,
     "metadata": {},
     "output_type": "execute_result"
    }
   ],
   "source": [
    "avg_phi[70]"
   ]
  },
  {
   "cell_type": "code",
   "execution_count": 110,
   "id": "601bf580-6381-4f69-86c4-0755b78abbc2",
   "metadata": {},
   "outputs": [
    {
     "data": {
      "text/plain": [
       "const\n",
       "0    -2.246497\n",
       "1     2.834912\n",
       "2     2.795217\n",
       "3    -2.989873\n",
       "4     2.980012\n",
       "5     3.117775\n",
       "6    -3.128724\n",
       "7     3.093133\n",
       "8     2.793385\n",
       "9     2.699676\n",
       "10    2.825761\n",
       "11   -2.600048\n",
       "12   -2.481876\n",
       "13    2.896344\n",
       "14    2.900297\n",
       "15    2.989051\n",
       "16   -2.948421\n",
       "17   -3.055780\n",
       "18    3.121855\n",
       "19   -3.091408\n",
       "20   -2.941864\n",
       "21   -2.899338\n",
       "22   -3.082489\n",
       "23   -3.010126\n",
       "24   -2.964759\n",
       "25   -2.860384\n",
       "26   -2.947066\n",
       "27   -2.952757\n",
       "28   -2.697244\n",
       "29   -2.762925\n",
       "30   -2.829962\n",
       "31   -2.809263\n",
       "32   -2.858130\n",
       "33   -2.788159\n",
       "34   -2.799066\n",
       "35   -2.823870\n",
       "Name: Phi, dtype: float64"
      ]
     },
     "execution_count": 110,
     "metadata": {},
     "output_type": "execute_result"
    }
   ],
   "source": [
    "const.Phi[70]"
   ]
  },
  {
   "cell_type": "code",
   "execution_count": 108,
   "id": "bb01f19f-3ed5-4a3b-b1db-8bed7e20f7cc",
   "metadata": {},
   "outputs": [
    {
     "data": {
      "text/plain": [
       "const\n",
       "0    -2.246497\n",
       "1     2.834912\n",
       "2     2.795217\n",
       "3    -2.989873\n",
       "4     2.980012\n",
       "5     3.117775\n",
       "6    -3.128724\n",
       "7     3.093133\n",
       "8     2.793385\n",
       "9     2.699676\n",
       "10    2.825761\n",
       "11   -2.600048\n",
       "12   -2.481876\n",
       "13    2.896344\n",
       "14    2.900297\n",
       "15    2.989051\n",
       "16   -2.948421\n",
       "17   -3.055780\n",
       "18    3.121855\n",
       "19   -3.091408\n",
       "20   -2.941864\n",
       "21   -2.899338\n",
       "22   -3.082489\n",
       "23   -3.010126\n",
       "24   -2.964759\n",
       "25   -2.860384\n",
       "26   -2.947066\n",
       "27   -2.952757\n",
       "28   -2.697244\n",
       "29   -2.762925\n",
       "30   -2.829962\n",
       "31   -2.809263\n",
       "32   -2.858130\n",
       "33   -2.788159\n",
       "34   -2.799066\n",
       "35   -2.823870\n",
       "Name: Phi, dtype: float64"
      ]
     },
     "execution_count": 108,
     "metadata": {},
     "output_type": "execute_result"
    }
   ],
   "source": [
    "const.Phi[np.abs(diffs) > 1.2][70]"
   ]
  },
  {
   "cell_type": "code",
   "execution_count": 96,
   "id": "3e7c015d-ee99-4b94-b001-93a3bbc4c8ff",
   "metadata": {},
   "outputs": [
    {
     "data": {
      "image/png": "[encoded data removed]",
      "text/plain": [
       "<Figure size 799.992x599.976 with 1 Axes>"
      ]
     },
     "metadata": {},
     "output_type": "display_data"
    }
   ],
   "source": [
    "plt.hist(diffs, bins=100)\n",
    "plt.show()"
   ]
  },
  {
   "cell_type": "code",
   "execution_count": 65,
   "id": "fde72cd2-289b-4489-bf8a-28603b4853d5",
   "metadata": {},
   "outputs": [
    {
     "data": {
      "image/png": "[encoded data removed]",
      "text/plain": [
       "<Figure size 799.992x599.976 with 1 Axes>"
      ]
     },
     "metadata": {},
     "output_type": "display_data"
    }
   ],
   "source": [
    "plt.hist(const.Eta - avg_eta, bins=100)\n",
    "plt.show()"
   ]
  },
  {
   "cell_type": "code",
   "execution_count": 55,
   "id": "ba8ee912-fda0-4c6c-9be8-8b74658bcaf6",
   "metadata": {},
   "outputs": [
    {
     "data": {
      "text/plain": [
       "(39968707, 4)"
      ]
     },
     "execution_count": 55,
     "metadata": {},
     "output_type": "execute_result"
    }
   ],
   "source": []
  },
  {
   "cell_type": "code",
   "execution_count": null,
   "id": "c76a2642-b092-4e6b-9088-e7db89799f41",
   "metadata": {},
   "outputs": [],
   "source": []
  }
 ],
 "metadata": {
  "kernelspec": {
   "display_name": "tensorflow-2.6.0",
   "language": "python",
   "name": "tensorflow-2.6.0"
  },
  "language_info": {
   "codemirror_mode": {
    "name": "ipython",
    "version": 3
   },
   "file_extension": ".py",
   "mimetype": "text/x-python",
   "name": "python",
   "nbconvert_exporter": "python",
   "pygments_lexer": "ipython3",
   "version": "3.8.12"
  }
 },
 "nbformat": 4,
 "nbformat_minor": 5
}
