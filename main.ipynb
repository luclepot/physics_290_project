{
 "cells": [
  {
   "cell_type": "code",
   "execution_count": 1,
   "id": "a7a0aceb-3cdb-4510-95f9-ce912779be18",
   "metadata": {},
   "outputs": [
    {
     "name": "stdout",
     "output_type": "stream",
     "text": [
      "Welcome to JupyROOT 6.18/00\n"
     ]
    }
   ],
   "source": [
    "import ROOT"
   ]
  },
  {
   "cell_type": "code",
   "execution_count": 2,
   "id": "01ebb54a-1e89-4a46-a818-c82f546c9ba5",
   "metadata": {},
   "outputs": [
    {
     "data": {
      "text/plain": [
       "-1"
      ]
     },
     "execution_count": 2,
     "metadata": {},
     "output_type": "execute_result"
    },
    {
     "name": "stderr",
     "output_type": "stream",
     "text": [
      "cling::DynamicLibraryManager::loadLibrary(): libCore.so.6.26: cannot open shared object file: No such file or directory\n"
     ]
    }
   ],
   "source": [
    "ROOT.gSystem.Load(\"/global/cscratch1/sd/luclepot/delphes/lib/libDelphes.so\")"
   ]
  },
  {
   "cell_type": "code",
   "execution_count": 10,
   "id": "bd4bcaa1-ead9-4742-801c-487e07aca5b2",
   "metadata": {},
   "outputs": [
    {
     "name": "stdout",
     "output_type": "stream",
     "text": [
      "# Source this script to set up the ROOT build that this script is part of.\n",
      "#\n",
      "# Conveniently an alias like this can be defined in .bashrc:\n",
      "#   alias thisroot=\". bin/thisroot.sh\"\n",
      "#\n",
      "# This script if for the bash like shells, see thisroot.csh for csh like shells.\n",
      "#\n",
      "# Author: Fons Rademakers, 18/8/2006\n",
      "\n",
      "drop_from_path()\n",
      "{\n",
      "   # Assert that we got enough arguments\n",
      "   if test $# -ne 2 ; then\n",
      "      echo \"drop_from_path: needs 2 arguments\"\n",
      "      return 1\n",
      "   fi\n",
      "\n",
      "   local p=$1\n",
      "   local drop=$2\n",
      "\n",
      "   newpath=`echo $p | sed -e \"s;:${drop}:;:;g\" \\\n",
      "                          -e \"s;:${drop}\\$;;g\"   \\\n",
      "                          -e \"s;^${drop}:;;g\"   \\\n",
      "                          -e \"s;^${drop}\\$;;g\"`\n",
      "}\n",
      "\n",
      "if [ -n \"${ROOTSYS}\" ] ; then\n",
      "   old_rootsys=${ROOTSYS}\n",
      "fi\n",
      "\n",
      "SOURCE=${BASH_ARGV[0]}\n",
      "if [ \"x$SOURCE\" = \"x\" ]; then\n",
      "    SOURCE=${(%):-%N} # for zsh\n",
      "fi\n",
      "\n",
      "if [ \"x${SOURCE}\" = \"x\" ]; then\n",
      "    if [ -f bin/thisroot.sh ]; then\n",
      "        ROOTSYS=\"$PWD\"; export ROOTSYS\n",
      "    elif [ -f ./thisroot.sh ]; then\n",
      "        ROOTSYS=$(cd ..  > /dev/null; pwd); export ROOTSYS\n",
      "    else\n",
      "        echo ERROR: must \"cd where/root/is\" before calling \". bin/thisroot.sh\" for this version of bash!\n",
      "        ROOTSYS=; export ROOTSYS\n",
      "        return 1\n",
      "    fi\n",
      "else\n",
      "    # get param to \".\"\n",
      "    thisroot=$(dirname ${SOURCE})\n",
      "    ROOTSYS=$(cd ${thisroot}/.. > /dev/null;pwd); export ROOTSYS\n",
      "fi\n",
      "\n",
      "if [ -n \"${old_rootsys}\" ] ; then\n",
      "   if [ -n \"${PATH}\" ]; then\n",
      "      drop_from_path \"$PATH\" \"${old_rootsys}/bin\"\n",
      "      PATH=$newpath\n",
      "   fi\n",
      "   if [ -n \"${LD_LIBRARY_PATH}\" ]; then\n",
      "      drop_from_path \"$LD_LIBRARY_PATH\" \"${old_rootsys}/lib\"\n",
      "      LD_LIBRARY_PATH=$newpath\n",
      "   fi\n",
      "   if [ -n \"${DYLD_LIBRARY_PATH}\" ]; then\n",
      "      drop_from_path \"$DYLD_LIBRARY_PATH\" \"${old_rootsys}/lib\"\n",
      "      DYLD_LIBRARY_PATH=$newpath\n",
      "   fi\n",
      "   if [ -n \"${SHLIB_PATH}\" ]; then\n",
      "      drop_from_path \"$SHLIB_PATH\" \"${old_rootsys}/lib\"\n",
      "      SHLIB_PATH=$newpath\n",
      "   fi\n",
      "   if [ -n \"${LIBPATH}\" ]; then\n",
      "      drop_from_path \"$LIBPATH\" \"${old_rootsys}/lib\"\n",
      "      LIBPATH=$newpath\n",
      "   fi\n",
      "   if [ -n \"${PYTHONPATH}\" ]; then\n",
      "      drop_from_path \"$PYTHONPATH\" \"${old_rootsys}/lib\"\n",
      "      PYTHONPATH=$newpath\n",
      "   fi\n",
      "   if [ -n \"${MANPATH}\" ]; then\n",
      "      drop_from_path \"$MANPATH\" \"${old_rootsys}/man\"\n",
      "      MANPATH=$newpath\n",
      "   fi\n",
      "   if [ -n \"${CMAKE_PREFIX_PATH}\" ]; then\n",
      "      drop_from_path \"$CMAKE_PREFIX_PATH\" \"${old_rootsys}\"\n",
      "      CMAKE_PREFIX_PATH=$newpath\n",
      "   fi\n",
      "   if [ -n \"${JUPYTER_PATH}\" ]; then\n",
      "      drop_from_path \"$JUPYTER_PATH\" \"${old_rootsys}/etc/notebook\"\n",
      "      JUPYTER_PATH=$newpath\n",
      "   fi\n",
      "\n",
      "fi\n",
      "\n",
      "if [ -z \"${MANPATH}\" ]; then\n",
      "   # Grab the default man path before setting the path to avoid duplicates\n",
      "   if command -v manpath >/dev/null; then\n",
      "      default_manpath=`manpath`\n",
      "   elif command -v man >/dev/null; then\n",
      "      default_manpath=`man -w 2> /dev/null`\n",
      "   else\n",
      "      default_manpath=\"\"\n",
      "   fi\n",
      "fi\n",
      "\n",
      "if [ -z \"${PATH}\" ]; then\n",
      "   PATH=$ROOTSYS/bin; export PATH\n",
      "else\n",
      "   PATH=$ROOTSYS/bin:$PATH; export PATH\n",
      "fi\n",
      "\n",
      "if [ -z \"${LD_LIBRARY_PATH}\" ]; then\n",
      "   LD_LIBRARY_PATH=$ROOTSYS/lib; export LD_LIBRARY_PATH       # Linux, ELF HP-UX\n",
      "else\n",
      "   LD_LIBRARY_PATH=$ROOTSYS/lib:$LD_LIBRARY_PATH; export LD_LIBRARY_PATH\n",
      "fi\n",
      "\n",
      "if [ -z \"${DYLD_LIBRARY_PATH}\" ]; then\n",
      "   DYLD_LIBRARY_PATH=$ROOTSYS/lib; export DYLD_LIBRARY_PATH   # Mac OS X\n",
      "else\n",
      "   DYLD_LIBRARY_PATH=$ROOTSYS/lib:$DYLD_LIBRARY_PATH; export DYLD_LIBRARY_PATH\n",
      "fi\n",
      "\n",
      "if [ -z \"${SHLIB_PATH}\" ]; then\n",
      "   SHLIB_PATH=$ROOTSYS/lib; export SHLIB_PATH                 # legacy HP-UX\n",
      "else\n",
      "   SHLIB_PATH=$ROOTSYS/lib:$SHLIB_PATH; export SHLIB_PATH\n",
      "fi\n",
      "\n",
      "if [ -z \"${LIBPATH}\" ]; then\n",
      "   LIBPATH=$ROOTSYS/lib; export LIBPATH                       # AIX\n",
      "else\n",
      "   LIBPATH=$ROOTSYS/lib:$LIBPATH; export LIBPATH\n",
      "fi\n",
      "\n",
      "if [ -z \"${PYTHONPATH}\" ]; then\n",
      "   PYTHONPATH=$ROOTSYS/lib; export PYTHONPATH\n",
      "else\n",
      "   PYTHONPATH=$ROOTSYS/lib:$PYTHONPATH; export PYTHONPATH\n",
      "fi\n",
      "\n",
      "if [ -z \"${MANPATH}\" ]; then\n",
      "   MANPATH=$ROOTSYS/man:${default_manpath}; export MANPATH\n",
      "else\n",
      "   MANPATH=$ROOTSYS/man:$MANPATH; export MANPATH\n",
      "fi\n",
      "\n",
      "if [ -z \"${CMAKE_PREFIX_PATH}\" ]; then\n",
      "   CMAKE_PREFIX_PATH=$ROOTSYS; export CMAKE_PREFIX_PATH       # Linux, ELF HP-UX\n",
      "else\n",
      "   CMAKE_PREFIX_PATH=$ROOTSYS:$CMAKE_PREFIX_PATH; export CMAKE_PREFIX_PATH\n",
      "fi\n",
      "\n",
      "if [ -z \"${JUPYTER_PATH}\" ]; then\n",
      "   JUPYTER_PATH=$ROOTSYS/etc/notebook; export JUPYTER_PATH       # Linux, ELF HP-UX\n",
      "else\n",
      "   JUPYTER_PATH=$ROOTSYS/etc/notebook:$JUPYTER_PATH; export JUPYTER_PATH\n",
      "fi\n",
      "\n",
      "# Prevent Cppyy from checking the PCH (and avoid warning)\n",
      "export CLING_STANDARD_PCH=none\n",
      "\n",
      "if [ \"x`root-config --arch | grep -v win32gcc | grep -i win32`\" != \"x\" ]; then\n",
      "  ROOTSYS=\"`cygpath -w $ROOTSYS`\"\n",
      "fi\n",
      "\n",
      "unset old_rootsys\n",
      "unset thisroot\n",
      "unset -f drop_from_path\n"
     ]
    }
   ],
   "source": [
    "!cat /global/common/cori_cle7/software/root/6.18.00-py3/bin/thisroot.sh"
   ]
  },
  {
   "cell_type": "code",
   "execution_count": 15,
   "id": "17e6cc06-db51-436b-83e4-ad4f36c2dc7c",
   "metadata": {},
   "outputs": [
    {
     "data": {
      "text/plain": [
       "{'pyroot_env': '/global/u2/l/luclepot/.local/share/jupyter/kernels/pyroot_env',\n",
       " 'pytorch-v1.1.0': '/global/common/cori/software/python/3.6-anaconda-5.2/share/jupyter/kernels/pytorch-v1.1.0',\n",
       " 'python2': '/global/common/cori/software/python/3.6-anaconda-5.2/share/jupyter/kernels/python2',\n",
       " 'pyroot': '/global/common/cori/software/python/3.6-anaconda-5.2/share/jupyter/kernels/PyROOT',\n",
       " 'python3': '/global/common/cori/software/python/3.6-anaconda-5.2/share/jupyter/kernels/python3',\n",
       " 'ir': '/global/common/cori/software/python/3.6-anaconda-5.2/share/jupyter/kernels/ir',\n",
       " 'pytorch-v1.0.0-gpu': '/global/common/cori/software/python/3.6-anaconda-5.2/share/jupyter/kernels/pytorch-v1.0.0-gpu',\n",
       " 'pyroot3': '/global/common/cori/software/python/3.6-anaconda-5.2/share/jupyter/kernels/PyROOT3'}"
      ]
     },
     "execution_count": 15,
     "metadata": {},
     "output_type": "execute_result"
    }
   ],
   "source": [
    "from jupyter_client import kernelspec\n",
    "kernelspec.find_kernel_specs()"
   ]
  },
  {
   "cell_type": "code",
   "execution_count": 17,
   "id": "68b80f8e-35a6-4cb3-8298-93ef5df9d6ad",
   "metadata": {},
   "outputs": [
    {
     "name": "stdout",
     "output_type": "stream",
     "text": [
      "{\n",
      "    \"display_name\": \"PyROOT - Python3\",\n",
      "    \"language\": \"python\",\n",
      "    \"argv\": [\n",
      "        \"/global/common/cori/software/python/3.6-anaconda-5.2/bin/python\",\n",
      "    \"-m\",\n",
      "    \"IPython.kernel\",\n",
      "    \"-f\",\n",
      "    \"{connection_file}\"\n",
      "    ],\n",
      "    \"env\": {\n",
      "        \"LD_LIBRARY_PATH\": \"/usr/common/software/root/6.18.00-py3/lib\",\n",
      "        \"PYTHONPATH\" : \"/usr/common/software/root/6.18.00-py3/lib\"\n",
      "    }\n",
      "}\n"
     ]
    }
   ],
   "source": [
    "!cat '/global/common/cori/software/python/3.6-anaconda-5.2/share/jupyter/kernels/PyROOT3/kernel.json'"
   ]
  },
  {
   "cell_type": "code",
   "execution_count": 29,
   "id": "7489e4ad-14fc-48f3-b33f-da47a5117c64",
   "metadata": {},
   "outputs": [
    {
     "name": "stdout",
     "output_type": "stream",
     "text": [
      "\u001b[0m\u001b[01;34mPROC_dijet\u001b[0m/  \u001b[01;34mPROC_ttbar\u001b[0m/  README.md  dijet.cmd  py.py  run.cmd  ttbar.cmd\n"
     ]
    }
   ],
   "source": [
    "ls samples/"
   ]
  },
  {
   "cell_type": "code",
   "execution_count": 34,
   "id": "ac7f5cda-85a0-4182-8aea-9f21cfb1489e",
   "metadata": {},
   "outputs": [
    {
     "data": {
      "text/plain": [
       "-1"
      ]
     },
     "execution_count": 34,
     "metadata": {},
     "output_type": "execute_result"
    },
    {
     "name": "stderr",
     "output_type": "stream",
     "text": [
      "cling::DynamicLibraryManager::loadLibrary(): libCore.so.6.26: cannot open shared object file: No such file or directory\n"
     ]
    }
   ],
   "source": [
    "ROOT.gSystem.Load(\"/global/cscratch1/sd/luclepot/delphes/lib/libDelphes.so\")"
   ]
  },
  {
   "cell_type": "code",
   "execution_count": 33,
   "id": "87de013a-cb23-4789-9cb1-44b601644c04",
   "metadata": {},
   "outputs": [
    {
     "name": "stdout",
     "output_type": "stream",
     "text": [
      "/global/cscratch1/sd/luclepot/physics_290_project\n"
     ]
    }
   ],
   "source": [
    "!pwd"
   ]
  },
  {
   "cell_type": "code",
   "execution_count": 13,
   "id": "55231497-73ea-44ea-ba4a-32f12d05e71f",
   "metadata": {},
   "outputs": [
    {
     "name": "stdout",
     "output_type": "stream",
     "text": [
      "ExRootClassifier.h  ExRootProgressBar.h  ExRootTreeBranch.h  ExRootUtilities.h\n",
      "ExRootConfReader.h  ExRootResult.h       ExRootTreeReader.h\n",
      "ExRootFilter.h      ExRootTask.h         ExRootTreeWriter.h\n"
     ]
    }
   ],
   "source": [
    "ls ../delphes/include/ExRootAnalysis/"
   ]
  }
 ],
 "metadata": {
  "kernelspec": {
   "display_name": "pyroot_env",
   "language": "python",
   "name": "pyroot_env"
  },
  "language_info": {
   "codemirror_mode": {
    "name": "ipython",
    "version": 3
   },
   "file_extension": ".py",
   "mimetype": "text/x-python",
   "name": "python",
   "nbconvert_exporter": "python",
   "pygments_lexer": "ipython3",
   "version": "3.6.8"
  }
 },
 "nbformat": 4,
 "nbformat_minor": 5
}
